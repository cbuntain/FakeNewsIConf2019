{
 "cells": [
  {
   "cell_type": "code",
   "execution_count": 1,
   "metadata": {},
   "outputs": [],
   "source": [
    "%matplotlib inline\n",
    "\n",
    "import re\n",
    "import pandas as pd\n",
    "import numpy as np\n",
    "\n",
    "import matplotlib.pyplot as plt"
   ]
  },
  {
   "cell_type": "code",
   "execution_count": 2,
   "metadata": {},
   "outputs": [],
   "source": [
    "import tldextract\n",
    "import networkx as nx\n",
    "\n",
    "from networkx.algorithms import bipartite\n"
   ]
  },
  {
   "cell_type": "code",
   "execution_count": null,
   "metadata": {},
   "outputs": [],
   "source": []
  },
  {
   "cell_type": "code",
   "execution_count": 3,
   "metadata": {},
   "outputs": [],
   "source": [
    "df = pd.read_csv(\"../data/author_network_manually_labeled.tsv\", delimiter=\"\\t\", header=None)\n",
    "df.columns = [\"tld\", \"author\"]"
   ]
  },
  {
   "cell_type": "code",
   "execution_count": 21,
   "metadata": {},
   "outputs": [
    {
     "data": {
      "text/plain": [
       "152"
      ]
     },
     "execution_count": 21,
     "metadata": {},
     "output_type": "execute_result"
    }
   ],
   "source": [
    "len(set(df.tld))"
   ]
  },
  {
   "cell_type": "code",
   "execution_count": 4,
   "metadata": {},
   "outputs": [],
   "source": [
    "g = nx.Graph()\n",
    "\n",
    "tlds = set()\n",
    "authors = set()\n",
    "for idx, row in df.iterrows():\n",
    "    tld = row[\"tld\"]\n",
    "    author = row[\"author\"]\n",
    "    \n",
    "    if ( len(author) < 2 ):\n",
    "        continue\n",
    "        \n",
    "    tlds.add(tld)\n",
    "    authors.add(author)\n",
    "    g.add_edge(tld, author, weight=1.0)"
   ]
  },
  {
   "cell_type": "code",
   "execution_count": 5,
   "metadata": {},
   "outputs": [
    {
     "data": {
      "text/plain": [
       "(5118, 6387, 4966)"
      ]
     },
     "execution_count": 5,
     "metadata": {},
     "output_type": "execute_result"
    }
   ],
   "source": [
    "len(g.nodes), len(g.edges), len(authors)"
   ]
  },
  {
   "cell_type": "code",
   "execution_count": null,
   "metadata": {},
   "outputs": [],
   "source": []
  },
  {
   "cell_type": "code",
   "execution_count": null,
   "metadata": {},
   "outputs": [],
   "source": []
  },
  {
   "cell_type": "code",
   "execution_count": 7,
   "metadata": {},
   "outputs": [
    {
     "data": {
      "image/png": "[encoded data removed]",
      "text/plain": [
       "<Figure size 432x288 with 1 Axes>"
      ]
     },
     "metadata": {
      "needs_background": "light"
     },
     "output_type": "display_data"
    },
    {
     "name": "stdout",
     "output_type": "stream",
     "text": [
      "(array([4.691e+03, 1.270e+02, 6.500e+01, 4.900e+01, 1.200e+01, 9.000e+00,\n",
      "       9.000e+00, 3.000e+00, 1.000e+00]), array([ 1.        ,  2.33333333,  3.66666667,  5.        ,  6.33333333,\n",
      "        7.66666667,  9.        , 10.33333333, 11.66666667, 13.        ]), <a list of 9 Patch objects>)\n"
     ]
    }
   ],
   "source": [
    "degree_map = g.degree()\n",
    "weights = [degree_map(x) for x in authors]\n",
    "\n",
    "fig, ax = plt.subplots()\n",
    "\n",
    "# ax.hist(weights, bins=[2**x for x in range(1,10)])\n",
    "m = ax.hist(weights, bins=9)\n",
    "\n",
    "# ax.set_xscale('log')\n",
    "ax.set_yscale('log')\n",
    "\n",
    "ax.grid()\n",
    "ax.set_xlabel(\"Edge Weight (Shared Authors)\")\n",
    "ax.set_ylabel(\"Log(Frequency)\")\n",
    "\n",
    "plt.show()\n",
    "\n",
    "print(m)"
   ]
  },
  {
   "cell_type": "code",
   "execution_count": 8,
   "metadata": {},
   "outputs": [
    {
     "data": {
      "text/plain": [
       "4188"
      ]
     },
     "execution_count": 8,
     "metadata": {},
     "output_type": "execute_result"
    }
   ],
   "source": [
    "sum(np.array(weights) == 1)"
   ]
  },
  {
   "cell_type": "code",
   "execution_count": 9,
   "metadata": {},
   "outputs": [
    {
     "data": {
      "text/plain": [
       "42.01973684210526"
      ]
     },
     "execution_count": 9,
     "metadata": {},
     "output_type": "execute_result"
    }
   ],
   "source": [
    "np.mean([degree_map(x) for x in tlds])"
   ]
  },
  {
   "cell_type": "code",
   "execution_count": null,
   "metadata": {},
   "outputs": [],
   "source": []
  },
  {
   "cell_type": "code",
   "execution_count": 10,
   "metadata": {},
   "outputs": [],
   "source": [
    "proj_tld_g = bipartite.weighted_projected_graph(g, tlds)\n",
    "nx.write_graphml(proj_tld_g, \"website_tld_projection.graphml\")"
   ]
  },
  {
   "cell_type": "code",
   "execution_count": 25,
   "metadata": {},
   "outputs": [
    {
     "data": {
      "text/plain": [
       "(152, 427)"
      ]
     },
     "execution_count": 25,
     "metadata": {},
     "output_type": "execute_result"
    }
   ],
   "source": [
    "len(proj_tld_g.nodes()), len(proj_tld_g.edges())"
   ]
  },
  {
   "cell_type": "code",
   "execution_count": 29,
   "metadata": {},
   "outputs": [
    {
     "name": "stdout",
     "output_type": "stream",
     "text": [
      "Number of Connected TLDs: 76\n"
     ]
    }
   ],
   "source": [
    "connected_tld = len([x for x,y in proj_tld_g.degree() if y > 0])\n",
    "print(\"Number of Connected TLDs:\", connected_tld)"
   ]
  },
  {
   "cell_type": "code",
   "execution_count": 35,
   "metadata": {},
   "outputs": [
    {
     "data": {
      "text/plain": [
       "0.03720808644126874"
      ]
     },
     "execution_count": 35,
     "metadata": {},
     "output_type": "execute_result"
    }
   ],
   "source": [
    "nx.density(proj_tld_g)"
   ]
  },
  {
   "cell_type": "code",
   "execution_count": null,
   "metadata": {},
   "outputs": [],
   "source": []
  },
  {
   "cell_type": "code",
   "execution_count": null,
   "metadata": {},
   "outputs": [],
   "source": []
  },
  {
   "cell_type": "code",
   "execution_count": 19,
   "metadata": {},
   "outputs": [
    {
     "data": {
      "image/png": "[encoded data removed]",
      "text/plain": [
       "<Figure size 432x144 with 1 Axes>"
      ]
     },
     "metadata": {
      "needs_background": "light"
     },
     "output_type": "display_data"
    },
    {
     "name": "stdout",
     "output_type": "stream",
     "text": [
      "(array([382.,  22.,   8.,   3.,   6.,   1.,   3.,   1.,   0.,   1.]), array([  1.,  15.,  29.,  43.,  57.,  71.,  85.,  99., 113., 127., 141.]), <a list of 10 Patch objects>)\n"
     ]
    }
   ],
   "source": [
    "fig = plt.figure(figsize=(6,2))\n",
    "ax = fig.add_subplot(1,1,1)\n",
    "\n",
    "weights = [x[2][\"weight\"] for x in proj_tld_g.edges(data=True)]\n",
    "\n",
    "m = ax.hist(weights, bins=10)\n",
    "\n",
    "# ax.set_xscale('log')\n",
    "ax.set_yscale('log')\n",
    "\n",
    "ax.grid()\n",
    "ax.set_xlabel(\"Edge Weight (Shared Authors)\")\n",
    "ax.set_ylabel(\"Log(Frequency)\")\n",
    "\n",
    "plt.savefig(\"shared_author_hist.pdf\", format=\"pdf\", bbox_inches=\"tight\")\n",
    "plt.show()\n",
    "\n",
    "print(m)"
   ]
  },
  {
   "cell_type": "code",
   "execution_count": 23,
   "metadata": {},
   "outputs": [
    {
     "data": {
      "text/plain": [
       "126"
      ]
     },
     "execution_count": 23,
     "metadata": {},
     "output_type": "execute_result"
    }
   ],
   "source": [
    "sum(np.array(weights) >= 5)"
   ]
  },
  {
   "cell_type": "code",
   "execution_count": null,
   "metadata": {},
   "outputs": [],
   "source": []
  },
  {
   "cell_type": "code",
   "execution_count": null,
   "metadata": {
    "collapsed": true
   },
   "outputs": [],
   "source": []
  },
  {
   "cell_type": "code",
   "execution_count": 31,
   "metadata": {},
   "outputs": [],
   "source": [
    "proj_auth_g = bipartite.weighted_projected_graph(g, authors)\n",
    "nx.write_graphml(proj_auth_g, \"website_author_projection.graphml\")"
   ]
  },
  {
   "cell_type": "code",
   "execution_count": 32,
   "metadata": {},
   "outputs": [
    {
     "data": {
      "text/plain": [
       "(4966, 1924813)"
      ]
     },
     "execution_count": 32,
     "metadata": {},
     "output_type": "execute_result"
    }
   ],
   "source": [
    "len(proj_auth_g.nodes()), len(proj_auth_g.edges())"
   ]
  },
  {
   "cell_type": "code",
   "execution_count": 33,
   "metadata": {},
   "outputs": [
    {
     "name": "stdout",
     "output_type": "stream",
     "text": [
      "Number of Connected Authors: 4929\n"
     ]
    }
   ],
   "source": [
    "connected_authors = len([x for x,y in proj_auth_g.degree() if y > 0])\n",
    "print(\"Number of Connected Authors:\", connected_authors)"
   ]
  },
  {
   "cell_type": "code",
   "execution_count": 36,
   "metadata": {},
   "outputs": [
    {
     "data": {
      "text/plain": [
       "0.15613223292000913"
      ]
     },
     "execution_count": 36,
     "metadata": {},
     "output_type": "execute_result"
    }
   ],
   "source": [
    "nx.density(proj_auth_g)"
   ]
  },
  {
   "cell_type": "code",
   "execution_count": null,
   "metadata": {},
   "outputs": [],
   "source": []
  },
  {
   "cell_type": "code",
   "execution_count": null,
   "metadata": {
    "collapsed": true
   },
   "outputs": [],
   "source": []
  },
  {
   "cell_type": "code",
   "execution_count": 149,
   "metadata": {},
   "outputs": [
    {
     "data": {
      "image/png": "[encoded data removed]",
      "text/plain": [
       "<matplotlib.figure.Figure at 0x13b6567b8>"
      ]
     },
     "metadata": {},
     "output_type": "display_data"
    },
    {
     "name": "stdout",
     "output_type": "stream",
     "text": [
      "(array([1.884618e+06, 3.449500e+04, 4.062000e+03, 1.098000e+03,\n",
      "       3.560000e+02, 1.290000e+02, 4.200000e+01, 1.200000e+01,\n",
      "       1.000000e+00]), array([1.        , 1.88888889, 2.77777778, 3.66666667, 4.55555556,\n",
      "       5.44444444, 6.33333333, 7.22222222, 8.11111111, 9.        ]), <a list of 9 Patch objects>)\n"
     ]
    }
   ],
   "source": [
    "weights = [x[2][\"weight\"] for x in proj_auth_g.edges(data=True)]\n",
    "\n",
    "fig, ax = plt.subplots()\n",
    "\n",
    "# ax.hist(weights, bins=[2**x for x in range(1,10)])\n",
    "m = ax.hist(weights, bins=9)\n",
    "\n",
    "# ax.set_xscale('log')\n",
    "ax.set_yscale('log')\n",
    "\n",
    "ax.grid()\n",
    "ax.set_xlabel(\"Edge Weight (Shared Authors)\")\n",
    "ax.set_ylabel(\"Log(Frequency)\")\n",
    "\n",
    "plt.show()\n",
    "\n",
    "print(m)"
   ]
  },
  {
   "cell_type": "code",
   "execution_count": 151,
   "metadata": {},
   "outputs": [
    {
     "data": {
      "text/plain": [
       "1884618"
      ]
     },
     "execution_count": 151,
     "metadata": {},
     "output_type": "execute_result"
    }
   ],
   "source": [
    "sum(np.array(weights) ==1)"
   ]
  },
  {
   "cell_type": "code",
   "execution_count": null,
   "metadata": {
    "collapsed": true
   },
   "outputs": [],
   "source": []
  },
  {
   "cell_type": "code",
   "execution_count": 114,
   "metadata": {
    "collapsed": true
   },
   "outputs": [],
   "source": [
    "centrality = nx.centrality.eigenvector_centrality_numpy(proj_auth_g)"
   ]
  },
  {
   "cell_type": "code",
   "execution_count": 115,
   "metadata": {},
   "outputs": [
    {
     "name": "stdout",
     "output_type": "stream",
     "text": [
      "christinasarich 0.02745415333460647\n",
      "clairebernish 0.027416897919906383\n",
      "kurtnimmo 0.027403414602089896\n",
      "jonrappoport 0.027375828027001843\n",
      "justingardner 0.027371967426197436\n",
      "brandonturbeville 0.027363536268536326\n",
      "tonycartalucci 0.027333430738529563\n",
      "michaelsnyder 0.02732679468171092\n",
      "mattagorist 0.027311957728862364\n",
      "careywedler 0.027306258636534447\n"
     ]
    }
   ],
   "source": [
    "sorted_centrality = sorted(centrality, key=centrality.get, reverse=True)\n",
    "for u in sorted_centrality[:10]:\n",
    "    print(u, centrality[u])"
   ]
  },
  {
   "cell_type": "code",
   "execution_count": 109,
   "metadata": {},
   "outputs": [
    {
     "data": {
      "text/plain": [
       "[<matplotlib.lines.Line2D at 0x10be18898>]"
      ]
     },
     "execution_count": 109,
     "metadata": {},
     "output_type": "execute_result"
    },
    {
     "data": {
      "image/png": "[encoded data removed]",
      "text/plain": [
       "<matplotlib.figure.Figure at 0x1195fe4e0>"
      ]
     },
     "metadata": {},
     "output_type": "display_data"
    }
   ],
   "source": [
    "plt.plot(sorted(centrality.values()))"
   ]
  },
  {
   "cell_type": "code",
   "execution_count": null,
   "metadata": {
    "collapsed": true
   },
   "outputs": [],
   "source": []
  },
  {
   "cell_type": "code",
   "execution_count": 113,
   "metadata": {},
   "outputs": [
    {
     "data": {
      "text/plain": [
       "{'weight': 95}"
      ]
     },
     "execution_count": 113,
     "metadata": {},
     "output_type": "execute_result"
    }
   ],
   "source": [
    "proj_tld_g.get_edge_data(\"themillenniumreport.com\", \"theeventchronicle.com\")"
   ]
  },
  {
   "cell_type": "code",
   "execution_count": 167,
   "metadata": {},
   "outputs": [
    {
     "name": "stdout",
     "output_type": "stream",
     "text": [
      "21stcenturywire.com\n",
      "abeldanger.net\n",
      "activistpost.com\n",
      "dcclothesline.com\n",
      "globalresearch.ca\n",
      "intellihub.com\n",
      "jamesfetzer.blogspot.com\n",
      "scoopfeed.net\n",
      "sgtreport.com\n",
      "theeventchronicle.com\n",
      "themillenniumreport.com\n"
     ]
    }
   ],
   "source": [
    "for x in g.neighbors(\"jonrappoport\"):\n",
    "    print(x)"
   ]
  },
  {
   "cell_type": "code",
   "execution_count": null,
   "metadata": {
    "collapsed": true
   },
   "outputs": [],
   "source": []
  }
 ],
 "metadata": {
  "kernelspec": {
   "display_name": "Python 3",
   "language": "python",
   "name": "python3"
  },
  "language_info": {
   "codemirror_mode": {
    "name": "ipython",
    "version": 3
   },
   "file_extension": ".py",
   "mimetype": "text/x-python",
   "name": "python",
   "nbconvert_exporter": "python",
   "pygments_lexer": "ipython3",
   "version": "3.7.0"
  }
 },
 "nbformat": 4,
 "nbformat_minor": 2
}
