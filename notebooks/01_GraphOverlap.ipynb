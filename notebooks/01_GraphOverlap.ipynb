{
 "cells": [
  {
   "cell_type": "code",
   "execution_count": 1,
   "metadata": {},
   "outputs": [],
   "source": [
    "%matplotlib inline"
   ]
  },
  {
   "cell_type": "code",
   "execution_count": 2,
   "metadata": {},
   "outputs": [],
   "source": [
    "import networkx as nx\n",
    "import pandas as pd\n",
    "import numpy as np\n",
    "\n",
    "import matplotlib.pyplot as plt\n",
    "\n",
    "import sklearn.metrics"
   ]
  },
  {
   "cell_type": "code",
   "execution_count": null,
   "metadata": {},
   "outputs": [],
   "source": []
  },
  {
   "cell_type": "markdown",
   "metadata": {},
   "source": [
    "# Compare to JGolbeck et al. on Fake News dataset\n"
   ]
  },
  {
   "cell_type": "code",
   "execution_count": 3,
   "metadata": {},
   "outputs": [
    {
     "data": {
      "text/plain": [
       "(96, 1)"
      ]
     },
     "execution_count": 3,
     "metadata": {},
     "output_type": "execute_result"
    }
   ],
   "source": [
    "golbeck_df = pd.read_csv(\"../data/jgolbeck.csv\")\n",
    "golbeck_df.shape"
   ]
  },
  {
   "cell_type": "markdown",
   "metadata": {},
   "source": [
    "# Compare to Guess, Nyhan, and Reifler"
   ]
  },
  {
   "cell_type": "code",
   "execution_count": 4,
   "metadata": {},
   "outputs": [
    {
     "data": {
      "text/plain": [
       "(92, 2)"
      ]
     },
     "execution_count": 4,
     "metadata": {},
     "output_type": "execute_result"
    }
   ],
   "source": [
    "nyhan_df = pd.read_csv(\"../data/guess_nyhan_reifler.csv\")\n",
    "nyhan_df.shape"
   ]
  },
  {
   "cell_type": "markdown",
   "metadata": {
    "collapsed": true
   },
   "source": [
    "# Starbird Alternative Media"
   ]
  },
  {
   "cell_type": "code",
   "execution_count": 5,
   "metadata": {},
   "outputs": [
    {
     "data": {
      "text/plain": [
       "(79, 6)"
      ]
     },
     "execution_count": 5,
     "metadata": {},
     "output_type": "execute_result"
    }
   ],
   "source": [
    "starbird_df = pd.read_excel(\"../data/starbird_AlternativeDomains.xlsx\")\n",
    "starbird_df[\"domain\"] = starbird_df[\"Domain\"]\n",
    "\n",
    "starbird_alt = starbird_df[starbird_df[\"Media Type (Determined through Content Analysis)\"] == \"Alternative Media\"]\n",
    "starbird_alt.shape"
   ]
  },
  {
   "cell_type": "code",
   "execution_count": null,
   "metadata": {},
   "outputs": [],
   "source": []
  },
  {
   "cell_type": "code",
   "execution_count": null,
   "metadata": {},
   "outputs": [],
   "source": []
  },
  {
   "cell_type": "markdown",
   "metadata": {},
   "source": [
    "# Merged Fake News List"
   ]
  },
  {
   "cell_type": "code",
   "execution_count": 6,
   "metadata": {},
   "outputs": [],
   "source": [
    "sets = dict([\n",
    "    (\"golbeck\", set(golbeck_df[\"domain\"])),\n",
    "    (\"starbird_alt\", set(starbird_alt[\"domain\"])),\n",
    "    (\"nyhan\", set(nyhan_df[\"domain\"])),\n",
    "])\n",
    "\n",
    "# Dataset used for summer 2018\n",
    "sets[\"merged\"] = sets[\"nyhan\"].union(sets[\"golbeck\"]).union(sets[\"starbird_alt\"])"
   ]
  },
  {
   "cell_type": "code",
   "execution_count": 7,
   "metadata": {},
   "outputs": [
    {
     "name": "stdout",
     "output_type": "stream",
     "text": [
      "golbeck 96\n",
      "starbird_alt 79\n",
      "nyhan 92\n",
      "merged 246\n"
     ]
    }
   ],
   "source": [
    "for t, s in sets.items():\n",
    "    print(t, len(s))"
   ]
  },
  {
   "cell_type": "code",
   "execution_count": 8,
   "metadata": {
    "scrolled": false
   },
   "outputs": [
    {
     "name": "stdout",
     "output_type": "stream",
     "text": [
      "golbeck golbeck\n",
      "\tOverlap: 1.0 96 96\n",
      "golbeck starbird_alt\n",
      "\tOverlap: 0.09375 9 96\n",
      "golbeck nyhan\n",
      "\tOverlap: 0.09375 9 96\n",
      "golbeck merged\n",
      "\tOverlap: 1.0 96 96\n",
      "starbird_alt golbeck\n",
      "\tOverlap: 0.11392405063291139 9 79\n",
      "starbird_alt starbird_alt\n",
      "\tOverlap: 1.0 79 79\n",
      "starbird_alt nyhan\n",
      "\tOverlap: 0.0379746835443038 3 79\n",
      "starbird_alt merged\n",
      "\tOverlap: 1.0 79 79\n",
      "nyhan golbeck\n",
      "\tOverlap: 0.09782608695652174 9 92\n",
      "nyhan starbird_alt\n",
      "\tOverlap: 0.03260869565217391 3 92\n",
      "nyhan nyhan\n",
      "\tOverlap: 1.0 92 92\n",
      "nyhan merged\n",
      "\tOverlap: 1.0 92 92\n",
      "merged golbeck\n",
      "\tOverlap: 0.3902439024390244 96 246\n",
      "merged starbird_alt\n",
      "\tOverlap: 0.32113821138211385 79 246\n",
      "merged nyhan\n",
      "\tOverlap: 0.37398373983739835 92 246\n",
      "merged merged\n",
      "\tOverlap: 1.0 246 246\n"
     ]
    },
    {
     "data": {
      "image/png": "[encoded data removed]",
      "text/plain": [
       "<Figure size 432x288 with 1 Axes>"
      ]
     },
     "metadata": {
      "needs_background": "light"
     },
     "output_type": "display_data"
    }
   ],
   "source": [
    "n = len(sets)\n",
    "sim = np.zeros((n, n))\n",
    "\n",
    "sets_list = list(sets.items())\n",
    "\n",
    "for i in range(n):\n",
    "    left, l = sets_list[i]\n",
    "    for j in range(n):\n",
    "        right, r = sets_list[j]\n",
    "        print(left, right)\n",
    "        o = len(l.intersection(r)) / len(l)\n",
    "        print(\"\\tOverlap:\", o, len(l.intersection(r)), len(l))\n",
    "        \n",
    "        sim[i, j] = o\n",
    "        \n",
    "        \n",
    "fig, ax = plt.subplots()\n",
    "ax.imshow(sim)\n",
    "\n",
    "ax.set_xticks(range(n))\n",
    "ax.set_xticklabels([x[0] for x in sets_list], rotation=90)\n",
    "\n",
    "ax.set_yticks(range(n))\n",
    "ax.set_yticklabels([x[0] for x in sets_list])\n",
    "\n",
    "plt.show()"
   ]
  },
  {
   "cell_type": "code",
   "execution_count": 9,
   "metadata": {},
   "outputs": [
    {
     "data": {
      "text/plain": [
       "array([[1.        , 0.09375   , 0.09375   , 1.        ],\n",
       "       [0.11392405, 1.        , 0.03797468, 1.        ],\n",
       "       [0.09782609, 0.0326087 , 1.        , 1.        ],\n",
       "       [0.3902439 , 0.32113821, 0.37398374, 1.        ]])"
      ]
     },
     "execution_count": 9,
     "metadata": {},
     "output_type": "execute_result"
    }
   ],
   "source": [
    "sim"
   ]
  },
  {
   "cell_type": "code",
   "execution_count": null,
   "metadata": {},
   "outputs": [],
   "source": []
  },
  {
   "cell_type": "code",
   "execution_count": 10,
   "metadata": {},
   "outputs": [],
   "source": [
    "with open(\"summer2018_merged_tld_set.csv\", \"w\") as out_file:\n",
    "    for tld in sets[\"merged\"]:\n",
    "        out_file.write(\"%s\\n\" % tld)"
   ]
  },
  {
   "cell_type": "code",
   "execution_count": null,
   "metadata": {},
   "outputs": [],
   "source": []
  }
 ],
 "metadata": {
  "kernelspec": {
   "display_name": "Python 3",
   "language": "python",
   "name": "python3"
  },
  "language_info": {
   "codemirror_mode": {
    "name": "ipython",
    "version": 3
   },
   "file_extension": ".py",
   "mimetype": "text/x-python",
   "name": "python",
   "nbconvert_exporter": "python",
   "pygments_lexer": "ipython3",
   "version": "3.7.0"
  }
 },
 "nbformat": 4,
 "nbformat_minor": 2
}
